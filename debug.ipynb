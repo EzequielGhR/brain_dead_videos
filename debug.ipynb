{
 "cells": [
  {
   "cell_type": "code",
   "execution_count": 21,
   "metadata": {},
   "outputs": [],
   "source": [
    "import requests\n",
    "from bs4 import BeautifulSoup\n",
    "\n",
    "base = requests.get(\"https://www.reddit.com/r/AmItheAsshole/\")\n",
    "if base.status_code != 200:\n",
    "    raise Exception(base.text)\n",
    "\n",
    "html = base.text\n",
    "soup = BeautifulSoup(html, \"html.parser\")"
   ]
  },
  {
   "cell_type": "code",
   "execution_count": 22,
   "metadata": {},
   "outputs": [
    {
     "data": {
      "text/plain": [
       "'18t3is2'"
      ]
     },
     "execution_count": 22,
     "metadata": {},
     "output_type": "execute_result"
    }
   ],
   "source": [
    "post_url = 'https://www.reddit.com'+soup.find_all('a', attrs={\"slot\": \"full-post-link\"})[2].get(\"href\")\n",
    "post_id = post_url.split('comments/')[-1].rsplit('/')[0]\n",
    "post_id"
   ]
  },
  {
   "cell_type": "code",
   "execution_count": 23,
   "metadata": {},
   "outputs": [],
   "source": [
    "post = requests.get(post_url)\n",
    "if post.status_code != 200:\n",
    "    raise Exception(post.text)\n",
    "\n",
    "soup = BeautifulSoup(post.text, \"html.parser\")"
   ]
  },
  {
   "cell_type": "code",
   "execution_count": 47,
   "metadata": {},
   "outputs": [
    {
     "data": {
      "text/plain": [
       "'2023-12-28T20:22:55.465000+0000'"
      ]
     },
     "execution_count": 47,
     "metadata": {},
     "output_type": "execute_result"
    }
   ],
   "source": [
    "title = soup.find(\"h1\", id=\"post-title-t3_\"+post_id)\n",
    "user = soup.find(\"span\", slot=\"authorName\")\n",
    "stamp = soup.find(\"faceplate-timeago\")\n",
    "title.text #parse text\n",
    "user.text\n",
    "stamp.get('ts')"
   ]
  },
  {
   "cell_type": "code",
   "execution_count": 61,
   "metadata": {},
   "outputs": [],
   "source": [
    "post_div = soup.find(\"div\", id=f\"t3_{post_id}-post-rtjson-content\")\n",
    "lines = post_div.text.split('\\n')"
   ]
  },
  {
   "cell_type": "code",
   "execution_count": 63,
   "metadata": {},
   "outputs": [
    {
     "data": {
      "text/plain": [
       "['.venv', 'debug.ipynb', 'scrapper', 'test.py']"
      ]
     },
     "execution_count": 63,
     "metadata": {},
     "output_type": "execute_result"
    }
   ],
   "source": [
    "import os\n",
    "\n",
    "os.listdir()"
   ]
  },
  {
   "cell_type": "code",
   "execution_count": 58,
   "metadata": {},
   "outputs": [
    {
     "data": {
      "text/plain": [
       "'/r/AmItheAsshole/comments/18sw9vj/aita_for_taking_away_my_daughters_gifts_because/'"
      ]
     },
     "execution_count": 58,
     "metadata": {},
     "output_type": "execute_result"
    }
   ],
   "source": [
    "x = requests.get(\"https://www.reddit.com/r/AmItheAsshole/comments/18sw9vj/\")\n",
    "test_s = BeautifulSoup(x.text, 'html.parser')\n",
    "test_s.find(\"shreddit-redirect\").get('href')"
   ]
  },
  {
   "cell_type": "code",
   "execution_count": 60,
   "metadata": {},
   "outputs": [
    {
     "data": {
      "text/plain": [
       "'/r/AmItheAsshole/comments/18sw9vj/aita_for_taking_away_my_daughters_gifts_because/'"
      ]
     },
     "execution_count": 60,
     "metadata": {},
     "output_type": "execute_result"
    }
   ],
   "source": [
    "eval(\"test_s.find(\\\"shreddit-redirect\\\").get(\\\"href\\\")\")"
   ]
  },
  {
   "cell_type": "code",
   "execution_count": 1,
   "metadata": {},
   "outputs": [
    {
     "data": {
      "text/plain": [
       "{'author': 'Connect-Bet5983',\n",
       " 'postId': '18t3is2',\n",
       " 'postText': 'I’m 30F. My mom is 65F. My sister is 38F.\\nMy sister’s son is 10 months old. She’s basically a single mother. She works a full-time job and is the breadwinner, and is also the parent who takes care of the baby the most. The father only works part-time as a waiter to focus on his “art” (making music). He says he can’t look after the kid because he’s tired after his part-time job. They are struggling with money and have downgraded to a smaller apartment to save on rent. My mom has been giving them money every month and buying them baby stuff. Me and my mom (mostly my mom) have been helping her take care of the child. She spends a week out of the month over their apartment to help take care of the baby. My mom comes home and I go over there for the next week. We have been alternating like that. It’s taken a toll on my mom’s mental and physical health. I also don’t like it because I feel like I should be focusing on my own life\\nMy sister is pregnant again. Me and my mom are horrified that she is keeping it. She also announced that she is breaking up with her boyfriend and that he isn’t going to coparent. My mom is nearing retirement and told me she doesn’t want my sister and her kids to depend on her. My mom said she mentally, physically and financially can’t help my sister with raising 2 babies. I also did not sign up for this responsibility. So we set some boundaries with her and told her we won’t be helping as much and if she keeps the baby she needs to figure out the child care by herself. My sister got upset and complained to her auntie (my mom’s sister). Now that side of the family is calling us selfish. Are we the asshole?',\n",
       " 'postUrl': 'https://www.reddit.com/r/AmItheAsshole/comments/18t3is2/aita_for_telling_my_pregnant_sister_i_dont_want/',\n",
       " 'readableStamp': '28 of December 2023, at 20:22',\n",
       " 'readableSubreddit': 'Am I the asshole',\n",
       " 'subReddit': 'AmItheAsshole',\n",
       " 'timestamp': '2023-12-28T20:22:55.465000+0000',\n",
       " 'title': 'AITA for telling my pregnant sister I don’t want to help raise her kids?'}"
      ]
     },
     "execution_count": 1,
     "metadata": {},
     "output_type": "execute_result"
    }
   ],
   "source": [
    "import json\n",
    "\n",
    "with open(\"storage/AmItheAsshole/18t3is2.json\", \"r\") as f:\n",
    "    json_ = json.loads(f.read())\n",
    "\n",
    "json_"
   ]
  },
  {
   "cell_type": "code",
   "execution_count": 96,
   "metadata": {},
   "outputs": [],
   "source": [
    "import pyttsx3\n",
    "import re\n",
    "from time import sleep\n",
    "\n",
    "subr = json_[\"readableSubreddit\"]\n",
    "ts = json_[\"readableStamp\"]\n",
    "\n",
    "engine = pyttsx3.init()\n",
    "engine.setProperty(\"rate\", 100)\n",
    "engine.setProperty(\"pitch\", 30)\n",
    "\n",
    "counter = 1\n",
    "subfile = \"\"\"<?xml version=\"1.0\" encoding=\"UTF-8\"?>\n",
    "<html xmlns=\"http://www.w3.org/1999/xhtml\" xmlns:epub=\"http://www.idpf.org/2007/ops\" lang=\"en\" xml:lang=\"en\">\n",
    " <head>\n",
    "  <meta charset=\"utf-8\"/>\n",
    "  <meta name=\"viewport\" content=\"width=768,height=1024\"/>\n",
    "  <link rel=\"stylesheet\" href=\"../Styles/style.css\" type=\"text/css\"/>\n",
    "  <title>Sonnet I</title>\n",
    " </head>\n",
    " <body>\n",
    "  <div id=\"divTitle\">\n",
    "   <h1><span id=\"f001\">I</span></h1>\n",
    "  </div>\n",
    "  <div id=\"divSonnet\"> \n",
    "   <p>\n",
    "\"\"\"\n",
    "\n",
    "engine.setProperty(\"voice\", \"mb-us2\")\n",
    "subfile+=f'\\t<span id=f{counter:03}\">'+(phrase:=f'Post on \"{subr}\" by \"{json_[\"author\"]}\". \"{ts}\"')+'</span><br/>\\n'\n",
    "engine.save_to_file(phrase, f\"line_{counter:03}.mp3\")\n",
    "counter+=1\n",
    "sleep(1)\n",
    "subfile+=f'\\t<span id=f{counter:03}\">'+(title:=json_[\"title\"].replace('AITA', subr))+'</span><br/>\\n'\n",
    "engine.save_to_file(title, f\"line_{counter:03}.mp3\")\n",
    "counter+=1\n",
    "sleep(1)\n",
    "lines = json_[\"postText\"].split('.')\n",
    "for line in lines:\n",
    "    to_replace = re.findall(r'(\\d+F|\\d+M)', line)\n",
    "    replacement = {}\n",
    "    for match in to_replace:\n",
    "        if 'F' in match:\n",
    "            replacement[match] = match.replace('F', ' Female')\n",
    "        if 'M' in match:\n",
    "            replacement[match] = match.replace('M', ' Male')\n",
    "\n",
    "    for k, v in replacement.items():\n",
    "        line = line.replace(k, v)\n",
    "    \n",
    "    line = line.strip()\n",
    "    subfile+=f'\\t<span id=f{counter:03}\">'+line+'</span><br/>\\n'\n",
    "    engine.save_to_file(line, f\"line_{counter:03}.mp3\")\n",
    "    counter+=1\n",
    "engine.runAndWait()\n",
    "subfile.rsplit(\"<br/>\")[0]\n",
    "subfile+=\"\"\"\n",
    "   </p>\n",
    "  </div>\n",
    " </body>\n",
    "</html>\"\"\"\n",
    "with open(\"subs.xhtml\", \"w\") as f:\n",
    "    f.write(subfile)\n"
   ]
  },
  {
   "cell_type": "code",
   "execution_count": 2,
   "metadata": {},
   "outputs": [
    {
     "ename": "TypeError",
     "evalue": "Engine.save_to_file() missing 1 required positional argument: 'text'",
     "output_type": "error",
     "traceback": [
      "\u001b[0;31m---------------------------------------------------------------------------\u001b[0m",
      "\u001b[0;31mTypeError\u001b[0m                                 Traceback (most recent call last)",
      "Cell \u001b[0;32mIn[2], line 6\u001b[0m\n\u001b[1;32m      4\u001b[0m engine\u001b[38;5;241m.\u001b[39msay(\u001b[38;5;124m\"\u001b[39m\u001b[38;5;124mHello\u001b[39m\u001b[38;5;124m\"\u001b[39m)\n\u001b[1;32m      5\u001b[0m engine\u001b[38;5;241m.\u001b[39msay(\u001b[38;5;124m\"\u001b[39m\u001b[38;5;124mhow are you?\u001b[39m\u001b[38;5;124m\"\u001b[39m)\n\u001b[0;32m----> 6\u001b[0m \u001b[43mengine\u001b[49m\u001b[38;5;241;43m.\u001b[39;49m\u001b[43msave_to_file\u001b[49m\u001b[43m(\u001b[49m\u001b[43mfilename\u001b[49m\u001b[38;5;241;43m=\u001b[39;49m\u001b[38;5;124;43m\"\u001b[39;49m\u001b[38;5;124;43mtest.mp3\u001b[39;49m\u001b[38;5;124;43m\"\u001b[39;49m\u001b[43m)\u001b[49m\n",
      "\u001b[0;31mTypeError\u001b[0m: Engine.save_to_file() missing 1 required positional argument: 'text'"
     ]
    }
   ],
   "source": [
    "import pyttsx3\n",
    "\n",
    "engine = pyttsx3.init()\n",
    "engine.say(\"Hello\")\n",
    "engine.say(\"how are you?\")\n",
    "engine.save_to_file(filename=\"test.mp3\")"
   ]
  },
  {
   "cell_type": "code",
   "execution_count": 84,
   "metadata": {},
   "outputs": [
    {
     "data": {
      "text/plain": [
       "'Me 30 Female. my mom 65 Female. and my bro 32 Male.'"
      ]
     },
     "execution_count": 84,
     "metadata": {},
     "output_type": "execute_result"
    }
   ],
   "source": [
    "import re\n",
    "\n",
    "s = \"Me 30F. my mom 65F. and my bro 32M.\"\n",
    "to_replace = re.findall(r'(\\d+F|\\d+M)', s)\n",
    "replacement = {}\n",
    "for match in to_replace:\n",
    "    if 'F' in match:\n",
    "        replacement[match] = match.replace('F', ' Female')\n",
    "    if 'M' in match:\n",
    "        replacement[match] = match.replace('M', ' Male')\n",
    "\n",
    "for k, v in replacement.items():\n",
    "    s = s.replace(k, v)\n",
    "\n",
    "s\n",
    "\n"
   ]
  }
 ],
 "metadata": {
  "kernelspec": {
   "display_name": ".venv",
   "language": "python",
   "name": "python3"
  },
  "language_info": {
   "codemirror_mode": {
    "name": "ipython",
    "version": 3
   },
   "file_extension": ".py",
   "mimetype": "text/x-python",
   "name": "python",
   "nbconvert_exporter": "python",
   "pygments_lexer": "ipython3",
   "version": "3.10.12"
  }
 },
 "nbformat": 4,
 "nbformat_minor": 2
}
